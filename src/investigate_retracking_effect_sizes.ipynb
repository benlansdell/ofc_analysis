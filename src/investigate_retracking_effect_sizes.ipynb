{
 "cells": [
  {
   "cell_type": "markdown",
   "metadata": {},
   "source": [
    "### TODO\n",
    "\n",
    "* [x] Load files from the same animal\n",
    "* [x] Use MatchID to build decoder\n",
    "* [x] Train on left reward days, test on right\n",
    "* [x] Compare this to test performance on left\n",
    "* [ ] Make a plot of results (trained on left, plot results on right)\n",
    "* [ ] Make a plot of results (trained on LOGO left)\n",
    "\n",
    "What is our hypothesis again?\n",
    "\n",
    "That decoder performance for reward prediction decays w reversal while it doesn't for position?\n",
    "The OFC activity then represents the expectation of reward, not the position, and therefore we can use it to say something about how fast or slow re-learning reward is?\n"
   ]
  },
  {
   "cell_type": "code",
   "execution_count": 1,
   "metadata": {},
   "outputs": [
    {
     "name": "stdout",
     "output_type": "stream",
     "text": [
      "/home/blansdel/dnb2_backup_01-26-2025/schwarz/decoder\n"
     ]
    }
   ],
   "source": [
    "cd /home/blansdel/dnb2_backup_01-26-2025/schwarz/decoder"
   ]
  },
  {
   "cell_type": "code",
   "execution_count": 2,
   "metadata": {},
   "outputs": [],
   "source": [
    "import os\n",
    "os.environ['MKL_THREADING_LAYER'] = 'GNU'"
   ]
  },
  {
   "cell_type": "code",
   "execution_count": 3,
   "metadata": {},
   "outputs": [
    {
     "data": {
      "text/plain": [
       "'/home/blansdel/dnb2_backup_01-26-2025/schwarz/decoder'"
      ]
     },
     "execution_count": 3,
     "metadata": {},
     "output_type": "execute_result"
    }
   ],
   "source": [
    "pwd"
   ]
  },
  {
   "cell_type": "code",
   "execution_count": 4,
   "metadata": {},
   "outputs": [],
   "source": [
    "import numpy as np\n",
    "import pandas as pd\n",
    "import pickle\n",
    "from typing import Final\n",
    "\n",
    "from sklearn.metrics import accuracy_score\n",
    "\n",
    "from decoder_plotting import *"
   ]
  },
  {
   "cell_type": "code",
   "execution_count": 5,
   "metadata": {},
   "outputs": [],
   "source": [
    "base_dir = '/home/blansdel/projects/schwarz/decoder/Retracked/'\n",
    "animals = ['Control Animal 1', 'Control Animal 10', 'Control Animal M3', 'Clonodine Animal F4', 'Clonodine Animal 83', 'IDX Animal F3', 'IDX Animal 80']\n",
    "sample_dirs = [os.path.join(base_dir, a) for a in animals]\n",
    "\n",
    "all_files = [\n",
    "    'retracked_results/results_animal_Control Animal 1.pkl',\n",
    "    'retracked_results/results_animal_Control Animal 10.pkl',\n",
    "    'retracked_results/results_animal_Control Animal M3.pkl',\n",
    "    'retracked_results/results_animal_Clonidine Animal F4.pkl',\n",
    "    'retracked_results/results_animal_IDX Animal F3.pkl',\n",
    "    'retracked_results/results_animal_Clonidine Animal 83.pkl',\n",
    "    'retracked_results/results_animal_IDX Animal 80.pkl'    \n",
    "]"
   ]
  },
  {
   "cell_type": "code",
   "execution_count": 27,
   "metadata": {},
   "outputs": [],
   "source": [
    "def compute_cohen(df):\n",
    "    x = df[df['maze_choice'] == 'left']['accuracy']\n",
    "    y = df[df['maze_choice'] == 'right']['accuracy']\n",
    "    return (np.mean(x) - np.mean(y)) / np.sqrt(0.5*(np.std(x)**2 + np.std(y)**2))\n",
    "\n",
    "def compute_effect_size(test_accuracy_by_group, group_to_maze_choice):\n",
    "    df_cohen = pd.DataFrame(test_accuracy_by_group.items(), columns=['group', 'accuracy'])\n",
    "    df_cohen.group = df_cohen.group.str.split('Rds-').str[1]\n",
    "    df_group_to_maze_choice = pd.DataFrame(group_to_maze_choice.items(), columns=['group', 'maze_choice'])\n",
    "    df_cohen = df_cohen.merge(df_group_to_maze_choice, on='group')\n",
    "    effect_size = compute_cohen(df_cohen)\n",
    "    return effect_size\n",
    "    \n",
    "def run_analysis(fn_in):\n",
    "    with open(fn_in, 'rb') as f:\n",
    "        results = pickle.load(f)\n",
    "    test_accuracy_by_group = results['test_accuracy_by_group']\n",
    "    train_accuracy_by_group = results['train_accuracy_by_group']\n",
    "    train_accuracy = results['train_accs']\n",
    "    test_accuracy = results['test_accs']\n",
    "    test_f1_by_group = results['test_f1_by_group']\n",
    "    train_f1_by_group = results['train_f1_by_group']\n",
    "\n",
    "    test_accs_shuffled = results['test_accs_shuffled_all']\n",
    "    train_accs_shuffled = results['train_accs_shuffled_all']\n",
    "\n",
    "    test_groups = results['test_groups']\n",
    "    y_pred_test = results['y_pred_test']\n",
    "    y_test_kmeans = results['y_test_kmeans']\n",
    "    maze_choice = results['trial_choice_test']\n",
    "    y_test_pos = results['y_test_pos']\n",
    "    test_events = results['test_events']\n",
    "\n",
    "    #for each group, get the maze choice\n",
    "    group_to_maze_choice = {}\n",
    "    for group in test_groups.unique():\n",
    "        group_to_maze_choice[group.split('Rds-')[1]] = maze_choice[test_groups == group].iloc[0]\n",
    "\n",
    "    events_and_groups = pd.DataFrame({'event': test_events, 'kmeans': y_test_kmeans})\n",
    "    events_and_groups.groupby(['kmeans', 'event']).count()\n",
    "\n",
    "    #Reshape predictions to be by group\n",
    "    y_pred_test_by_group = []\n",
    "    y_test_kmeans_by_group = []\n",
    "    for group in test_groups.unique():\n",
    "        pred_counts = np.unique(y_pred_test[test_groups == group], return_counts=True)\n",
    "        #Fill in missing values with zero\n",
    "        pred_counts = dict(zip(pred_counts[0], pred_counts[1]))\n",
    "        for i in range(10):\n",
    "            if i not in pred_counts:\n",
    "                pred_counts[i] = 0\n",
    "        #Normalize\n",
    "        pred_counts = {k: v/sum(pred_counts.values()) for k, v in pred_counts.items()}\n",
    "        y_pred_test_by_group.append([v[1] for v in sorted(pred_counts.items())])\n",
    "\n",
    "        #Do the same for the true values\n",
    "        keamns_counts = np.unique(y_test_kmeans[test_groups == group], return_counts=True)\n",
    "        keamns_counts = dict(zip(keamns_counts[0], keamns_counts[1]))\n",
    "        for i in range(10):\n",
    "            if i not in keamns_counts:\n",
    "                keamns_counts[i] = 0\n",
    "        keamns_counts = {k: v/sum(keamns_counts.values()) for k, v in keamns_counts.items()}\n",
    "        y_test_kmeans_by_group.append([v[1] for v in sorted(keamns_counts.items())])\n",
    "        effect_size = compute_effect_size(test_accuracy_by_group, group_to_maze_choice)\n",
    "        \n",
    "    return effect_size, y_pred_test_by_group, y_test_kmeans_by_group, group_to_maze_choice, test_accuracy_by_group, test_accuracy, train_accuracy, test_f1_by_group, train_f1_by_group, train_accuracy_by_group, test_accs_shuffled, train_accs_shuffled\n",
    "\n",
    "def run_all_analysis(all_files):\n",
    "    df = pd.DataFrame()\n",
    "    for f in all_files:\n",
    "        effect_size, y_pred_test_by_group, y_test_kmeans_by_group, group_to_maze_choice, test_accuracy_by_group, test_accuracy, train_accuracy, test_f1_by_group, train_f1_by_group, train_accuracy_by_group, test_accs_shuffled, train_accs_shuffled = run_analysis(f)\n",
    "        row = {\n",
    "            'animal': f.split('/')[-1].split('.')[0],\n",
    "            'effect_size': effect_size,\n",
    "            'maze_choice': group_to_maze_choice,\n",
    "            'test_accuracy_by_group': test_accuracy_by_group,\n",
    "            'train_accuracy_by_group': train_accuracy_by_group,\n",
    "            'test_f1_by_group': test_f1_by_group,\n",
    "            'train_f1_by_group': train_f1_by_group,\n",
    "            'train_accuracy': train_accuracy,\n",
    "            'test_accuracy': test_accuracy,\n",
    "            'test_accs_shuffled': test_accs_shuffled,\n",
    "            'train_accs_shuffled': train_accs_shuffled,\n",
    "        }\n",
    "        df = df.append(row, ignore_index=True)\n",
    "    return df"
   ]
  },
  {
   "cell_type": "code",
   "execution_count": 28,
   "metadata": {},
   "outputs": [
    {
     "data": {
      "text/plain": [
       "['retracked_results/results_animal_Control Animal 1.pkl',\n",
       " 'retracked_results/results_animal_Control Animal 10.pkl',\n",
       " 'retracked_results/results_animal_Control Animal M3.pkl',\n",
       " 'retracked_results/results_animal_Clonidine Animal F4.pkl',\n",
       " 'retracked_results/results_animal_IDX Animal F3.pkl',\n",
       " 'retracked_results/results_animal_Clonidine Animal 83.pkl',\n",
       " 'retracked_results/results_animal_IDX Animal 80.pkl']"
      ]
     },
     "execution_count": 28,
     "metadata": {},
     "output_type": "execute_result"
    }
   ],
   "source": [
    "all_files"
   ]
  },
  {
   "cell_type": "code",
   "execution_count": null,
   "metadata": {},
   "outputs": [
    {
     "data": {
      "text/html": [
       "<div>\n",
       "<style scoped>\n",
       "    .dataframe tbody tr th:only-of-type {\n",
       "        vertical-align: middle;\n",
       "    }\n",
       "\n",
       "    .dataframe tbody tr th {\n",
       "        vertical-align: top;\n",
       "    }\n",
       "\n",
       "    .dataframe thead th {\n",
       "        text-align: right;\n",
       "    }\n",
       "</style>\n",
       "<table border=\"1\" class=\"dataframe\">\n",
       "  <thead>\n",
       "    <tr style=\"text-align: right;\">\n",
       "      <th></th>\n",
       "      <th>animal</th>\n",
       "      <th>effect_size</th>\n",
       "      <th>maze_choice</th>\n",
       "      <th>test_accuracy_by_group</th>\n",
       "      <th>train_accuracy_by_group</th>\n",
       "      <th>test_f1_by_group</th>\n",
       "      <th>train_f1_by_group</th>\n",
       "      <th>train_accuracy</th>\n",
       "      <th>test_accuracy</th>\n",
       "      <th>test_accs_shuffled</th>\n",
       "      <th>train_accs_shuffled</th>\n",
       "      <th>test_acc_pvalue</th>\n",
       "      <th>train_acc_pvalue</th>\n",
       "      <th>test_accs_shuf_max</th>\n",
       "      <th>train_accs_shuf_max</th>\n",
       "    </tr>\n",
       "  </thead>\n",
       "  <tbody>\n",
       "    <tr>\n",
       "      <th>0</th>\n",
       "      <td>results_animal_Control Animal 1</td>\n",
       "      <td>2.512481</td>\n",
       "      <td>{'7.0-01': 'left', '7.0-02': 'right', '7.0-03'...</td>\n",
       "      <td>{'final_010719.Rds-7.0-01': 0.6273291925465838...</td>\n",
       "      <td>{'final_010713.Rds-2.0-12': 0.3190334533688221...</td>\n",
       "      <td>{'final_010719.Rds-7.0-01': 0.5987405677547216...</td>\n",
       "      <td>{'final_010713.Rds-2.0-12': 0.3347916875493261...</td>\n",
       "      <td>[0.58787]</td>\n",
       "      <td>[0.2711513994910941]</td>\n",
       "      <td>[0.1229325699745547, 0.1270674300254453, 0.122...</td>\n",
       "      <td>[0.16476, 0.16489, 0.163885, 0.164905, 0.164, ...</td>\n",
       "      <td>0.0</td>\n",
       "      <td>0.0</td>\n",
       "      <td>0.128287</td>\n",
       "      <td>0.166605</td>\n",
       "    </tr>\n",
       "    <tr>\n",
       "      <th>1</th>\n",
       "      <td>results_animal_Control Animal 10</td>\n",
       "      <td>-1.311819</td>\n",
       "      <td>{'7-01': 'right', '7-02': 'left', '7-03': 'rig...</td>\n",
       "      <td>{'final_100208.Rds-7-01': 0.9097327281896117, ...</td>\n",
       "      <td>{'final_100202.Rds-2-03': 0.4173758163467247, ...</td>\n",
       "      <td>{'final_100208.Rds-7-01': 0.8855568834759872, ...</td>\n",
       "      <td>{'final_100202.Rds-2-03': 0.3744862055559208, ...</td>\n",
       "      <td>[0.64359]</td>\n",
       "      <td>[0.3721305595408895]</td>\n",
       "      <td>[0.18172268907563024, 0.18128714900594384, 0.1...</td>\n",
       "      <td>[0.23872, 0.2386, 0.239335, 0.239265, 0.240145...</td>\n",
       "      <td>0.0</td>\n",
       "      <td>0.0</td>\n",
       "      <td>0.185950</td>\n",
       "      <td>0.243050</td>\n",
       "    </tr>\n",
       "    <tr>\n",
       "      <th>2</th>\n",
       "      <td>results_animal_Control Animal M3</td>\n",
       "      <td>3.856012</td>\n",
       "      <td>{'7.0-01': 'left', '7.0-02': 'left', '7.0-03':...</td>\n",
       "      <td>{'final_M30821.Rds-7.0-01': 0.4248878923766816...</td>\n",
       "      <td>{'final_M30815.Rds-2.0-03': 0.8823695213040823...</td>\n",
       "      <td>{'final_M30821.Rds-7.0-01': 0.3298082824842886...</td>\n",
       "      <td>{'final_M30815.Rds-2.0-03': 0.8870282270991977...</td>\n",
       "      <td>[0.69703]</td>\n",
       "      <td>[0.20863148479427548]</td>\n",
       "      <td>[0.10370701649771417, 0.1045020870602266, 0.10...</td>\n",
       "      <td>[0.26148, 0.26116, 0.2592, 0.260235, 0.262, 0....</td>\n",
       "      <td>0.0</td>\n",
       "      <td>0.0</td>\n",
       "      <td>0.108751</td>\n",
       "      <td>0.263570</td>\n",
       "    </tr>\n",
       "    <tr>\n",
       "      <th>3</th>\n",
       "      <td>results_animal_Clonidine Animal F4</td>\n",
       "      <td>5.006119</td>\n",
       "      <td>{'7.0-01': 'left', '7.0-02': 'left', '7.0-03':...</td>\n",
       "      <td>{'final_F40821.Rds-7.0-01': 0.7467811158798283...</td>\n",
       "      <td>{'final_F40815.Rds-2.0-04': 0.4708628739408611...</td>\n",
       "      <td>{'final_F40821.Rds-7.0-01': 0.7138146241406604...</td>\n",
       "      <td>{'final_F40815.Rds-2.0-04': 0.4825922836741796...</td>\n",
       "      <td>[0.683955]</td>\n",
       "      <td>[0.3478574619428886]</td>\n",
       "      <td>[0.19233016047558504, 0.19148253782802424, 0.1...</td>\n",
       "      <td>[0.26631, 0.265485, 0.26394, 0.26331, 0.264725...</td>\n",
       "      <td>0.0</td>\n",
       "      <td>0.0</td>\n",
       "      <td>0.194518</td>\n",
       "      <td>0.267565</td>\n",
       "    </tr>\n",
       "    <tr>\n",
       "      <th>4</th>\n",
       "      <td>results_animal_IDX Animal F3</td>\n",
       "      <td>1.954130</td>\n",
       "      <td>{'7.0-01': 'left', '7.0-02': 'left', '7.0-03':...</td>\n",
       "      <td>{'final_F30821.Rds-7.0-01': 0.2416267942583732...</td>\n",
       "      <td>{'final_F30820.Rds-6.0-12': 0.6175218636328458...</td>\n",
       "      <td>{'final_F30821.Rds-7.0-01': 0.1274086535962645...</td>\n",
       "      <td>{'final_F30820.Rds-6.0-12': 0.5919906299041339...</td>\n",
       "      <td>[0.67461]</td>\n",
       "      <td>[0.2933573645353432]</td>\n",
       "      <td>[0.2025560460319602, 0.20465716984405422, 0.20...</td>\n",
       "      <td>[0.272345, 0.27114, 0.27289, 0.273735, 0.27411...</td>\n",
       "      <td>0.0</td>\n",
       "      <td>0.0</td>\n",
       "      <td>0.207221</td>\n",
       "      <td>0.274870</td>\n",
       "    </tr>\n",
       "    <tr>\n",
       "      <th>5</th>\n",
       "      <td>results_animal_Clonidine Animal 83</td>\n",
       "      <td>3.018375</td>\n",
       "      <td>{'7.0-1.0': 'left', '7.0-10.0': 'left', '7.0-1...</td>\n",
       "      <td>{'final_830719.Rds-7.0-1.0': 0.632352941176470...</td>\n",
       "      <td>{'final_830713.Rds-2.0-7.0': 0.659434620753839...</td>\n",
       "      <td>{'final_830719.Rds-7.0-1.0': 0.572907143270780...</td>\n",
       "      <td>{'final_830713.Rds-2.0-7.0': 0.656586299590650...</td>\n",
       "      <td>[0.59855]</td>\n",
       "      <td>[0.23180887689587792]</td>\n",
       "      <td>[0.12654694333302316, 0.12643063180422442, 0.1...</td>\n",
       "      <td>[0.16383, 0.163695, 0.16301, 0.164395, 0.16273...</td>\n",
       "      <td>0.0</td>\n",
       "      <td>0.0</td>\n",
       "      <td>0.131409</td>\n",
       "      <td>0.165965</td>\n",
       "    </tr>\n",
       "    <tr>\n",
       "      <th>6</th>\n",
       "      <td>results_animal_IDX Animal 80</td>\n",
       "      <td>-1.446463</td>\n",
       "      <td>{'7.0-01': 'left', '7.0-02': 'right', '7.0-03'...</td>\n",
       "      <td>{'final_801003.Rds-7.0-01': 0.2622187742435997...</td>\n",
       "      <td>{'final_801002.Rds-6.0-04': 0.7295242766061795...</td>\n",
       "      <td>{'final_801003.Rds-7.0-01': 0.2967608238151722...</td>\n",
       "      <td>{'final_801002.Rds-6.0-04': 0.7066696279071228...</td>\n",
       "      <td>[0.5997]</td>\n",
       "      <td>[0.2810009065049545]</td>\n",
       "      <td>[0.11220343221531055, 0.11320371354443437, 0.1...</td>\n",
       "      <td>[0.231745, 0.231885, 0.232825, 0.23335, 0.2302...</td>\n",
       "      <td>0.0</td>\n",
       "      <td>0.0</td>\n",
       "      <td>0.115454</td>\n",
       "      <td>0.234840</td>\n",
       "    </tr>\n",
       "  </tbody>\n",
       "</table>\n",
       "</div>"
      ],
      "text/plain": [
       "                               animal  effect_size  \\\n",
       "0     results_animal_Control Animal 1     2.512481   \n",
       "1    results_animal_Control Animal 10    -1.311819   \n",
       "2    results_animal_Control Animal M3     3.856012   \n",
       "3  results_animal_Clonidine Animal F4     5.006119   \n",
       "4        results_animal_IDX Animal F3     1.954130   \n",
       "5  results_animal_Clonidine Animal 83     3.018375   \n",
       "6        results_animal_IDX Animal 80    -1.446463   \n",
       "\n",
       "                                         maze_choice  \\\n",
       "0  {'7.0-01': 'left', '7.0-02': 'right', '7.0-03'...   \n",
       "1  {'7-01': 'right', '7-02': 'left', '7-03': 'rig...   \n",
       "2  {'7.0-01': 'left', '7.0-02': 'left', '7.0-03':...   \n",
       "3  {'7.0-01': 'left', '7.0-02': 'left', '7.0-03':...   \n",
       "4  {'7.0-01': 'left', '7.0-02': 'left', '7.0-03':...   \n",
       "5  {'7.0-1.0': 'left', '7.0-10.0': 'left', '7.0-1...   \n",
       "6  {'7.0-01': 'left', '7.0-02': 'right', '7.0-03'...   \n",
       "\n",
       "                              test_accuracy_by_group  \\\n",
       "0  {'final_010719.Rds-7.0-01': 0.6273291925465838...   \n",
       "1  {'final_100208.Rds-7-01': 0.9097327281896117, ...   \n",
       "2  {'final_M30821.Rds-7.0-01': 0.4248878923766816...   \n",
       "3  {'final_F40821.Rds-7.0-01': 0.7467811158798283...   \n",
       "4  {'final_F30821.Rds-7.0-01': 0.2416267942583732...   \n",
       "5  {'final_830719.Rds-7.0-1.0': 0.632352941176470...   \n",
       "6  {'final_801003.Rds-7.0-01': 0.2622187742435997...   \n",
       "\n",
       "                             train_accuracy_by_group  \\\n",
       "0  {'final_010713.Rds-2.0-12': 0.3190334533688221...   \n",
       "1  {'final_100202.Rds-2-03': 0.4173758163467247, ...   \n",
       "2  {'final_M30815.Rds-2.0-03': 0.8823695213040823...   \n",
       "3  {'final_F40815.Rds-2.0-04': 0.4708628739408611...   \n",
       "4  {'final_F30820.Rds-6.0-12': 0.6175218636328458...   \n",
       "5  {'final_830713.Rds-2.0-7.0': 0.659434620753839...   \n",
       "6  {'final_801002.Rds-6.0-04': 0.7295242766061795...   \n",
       "\n",
       "                                    test_f1_by_group  \\\n",
       "0  {'final_010719.Rds-7.0-01': 0.5987405677547216...   \n",
       "1  {'final_100208.Rds-7-01': 0.8855568834759872, ...   \n",
       "2  {'final_M30821.Rds-7.0-01': 0.3298082824842886...   \n",
       "3  {'final_F40821.Rds-7.0-01': 0.7138146241406604...   \n",
       "4  {'final_F30821.Rds-7.0-01': 0.1274086535962645...   \n",
       "5  {'final_830719.Rds-7.0-1.0': 0.572907143270780...   \n",
       "6  {'final_801003.Rds-7.0-01': 0.2967608238151722...   \n",
       "\n",
       "                                   train_f1_by_group train_accuracy  \\\n",
       "0  {'final_010713.Rds-2.0-12': 0.3347916875493261...      [0.58787]   \n",
       "1  {'final_100202.Rds-2-03': 0.3744862055559208, ...      [0.64359]   \n",
       "2  {'final_M30815.Rds-2.0-03': 0.8870282270991977...      [0.69703]   \n",
       "3  {'final_F40815.Rds-2.0-04': 0.4825922836741796...     [0.683955]   \n",
       "4  {'final_F30820.Rds-6.0-12': 0.5919906299041339...      [0.67461]   \n",
       "5  {'final_830713.Rds-2.0-7.0': 0.656586299590650...      [0.59855]   \n",
       "6  {'final_801002.Rds-6.0-04': 0.7066696279071228...       [0.5997]   \n",
       "\n",
       "           test_accuracy                                 test_accs_shuffled  \\\n",
       "0   [0.2711513994910941]  [0.1229325699745547, 0.1270674300254453, 0.122...   \n",
       "1   [0.3721305595408895]  [0.18172268907563024, 0.18128714900594384, 0.1...   \n",
       "2  [0.20863148479427548]  [0.10370701649771417, 0.1045020870602266, 0.10...   \n",
       "3   [0.3478574619428886]  [0.19233016047558504, 0.19148253782802424, 0.1...   \n",
       "4   [0.2933573645353432]  [0.2025560460319602, 0.20465716984405422, 0.20...   \n",
       "5  [0.23180887689587792]  [0.12654694333302316, 0.12643063180422442, 0.1...   \n",
       "6   [0.2810009065049545]  [0.11220343221531055, 0.11320371354443437, 0.1...   \n",
       "\n",
       "                                 train_accs_shuffled  test_acc_pvalue  \\\n",
       "0  [0.16476, 0.16489, 0.163885, 0.164905, 0.164, ...              0.0   \n",
       "1  [0.23872, 0.2386, 0.239335, 0.239265, 0.240145...              0.0   \n",
       "2  [0.26148, 0.26116, 0.2592, 0.260235, 0.262, 0....              0.0   \n",
       "3  [0.26631, 0.265485, 0.26394, 0.26331, 0.264725...              0.0   \n",
       "4  [0.272345, 0.27114, 0.27289, 0.273735, 0.27411...              0.0   \n",
       "5  [0.16383, 0.163695, 0.16301, 0.164395, 0.16273...              0.0   \n",
       "6  [0.231745, 0.231885, 0.232825, 0.23335, 0.2302...              0.0   \n",
       "\n",
       "   train_acc_pvalue  test_accs_shuf_max  train_accs_shuf_max  \n",
       "0               0.0            0.128287             0.166605  \n",
       "1               0.0            0.185950             0.243050  \n",
       "2               0.0            0.108751             0.263570  \n",
       "3               0.0            0.194518             0.267565  \n",
       "4               0.0            0.207221             0.274870  \n",
       "5               0.0            0.131409             0.165965  \n",
       "6               0.0            0.115454             0.234840  "
      ]
     },
     "execution_count": 34,
     "metadata": {},
     "output_type": "execute_result"
    }
   ],
   "source": [
    "df = run_all_analysis(all_files)\n",
    "df['test_acc_pvalue'] = df['test_accs_shuffled'].apply(lambda x: np.sum(x > df['test_accuracy'][0]) / len(x))\n",
    "df['train_acc_pvalue'] = df['train_accs_shuffled'].apply(lambda x: np.sum(x > df['train_accuracy'][0]) / len(x))\n",
    "df"
   ]
  },
  {
   "cell_type": "markdown",
   "metadata": {},
   "source": [
    "### Accuracy plot"
   ]
  },
  {
   "cell_type": "markdown",
   "metadata": {},
   "source": [
    "Make plot for decoder accuracy and F1 scores"
   ]
  },
  {
   "cell_type": "code",
   "execution_count": 23,
   "metadata": {},
   "outputs": [],
   "source": [
    "df_plot = df.copy()\n",
    "df_plot['train_accuracy_by_group'] = df['train_accuracy_by_group'].apply(lambda x: [v[1] for v in sorted(x.items())])\n",
    "df_plot['test_accuracy_by_group'] = df['test_accuracy_by_group'].apply(lambda x: [v[1] for v in sorted(x.items())])\n",
    "\n",
    "df_plot_test = df_plot.explode('test_accuracy_by_group')\n",
    "df_plot_test = df_plot_test.rename(columns={'test_accuracy_by_group': 'accuracy_by_group'})\n",
    "df_plot_test['condition'] = 'rev'\n",
    "df_plot_train = df_plot.explode('train_accuracy_by_group')\n",
    "df_plot_train = df_plot_train.rename(columns={'train_accuracy_by_group': 'accuracy_by_group'})\n",
    "df_plot_train['condition'] = 'train'\n",
    "\n",
    "#Concat the two\n",
    "df_plot = pd.concat([df_plot_test, df_plot_train], ignore_index=True)\n",
    "\n",
    "df_plot['treatment'] = df_plot['animal'].str.split('_').str[-1].str.split(' ').str[0]\n",
    "df_plot = df_plot[['animal', 'treatment', 'condition', 'accuracy_by_group']]"
   ]
  },
  {
   "cell_type": "code",
   "execution_count": 24,
   "metadata": {},
   "outputs": [
    {
     "data": {
      "text/plain": [
       "<Figure size 720x432 with 0 Axes>"
      ]
     },
     "metadata": {},
     "output_type": "display_data"
    },
    {
     "data": {
      "image/png": "[encoded data removed]",
      "text/plain": [
       "<Figure size 432x216 with 2 Axes>"
      ]
     },
     "metadata": {
      "needs_background": "light"
     },
     "output_type": "display_data"
    }
   ],
   "source": [
    "#Use seaborn to make a set of box plots, one for each animal\n",
    "import seaborn as sns\n",
    "import matplotlib.pyplot as plt\n",
    "\n",
    "plt.figure(figsize=(10, 6))\n",
    "g = sns.FacetGrid(df_plot, col = 'condition', hue = 'treatment')\n",
    "\n",
    "colors = {\n",
    "    'Control': '#64b1af',\n",
    "    'Clonidine': '#7c4d87',\n",
    "    'IDX': '#ffcb77'\n",
    "}\n",
    "g.map_dataframe(sns.barplot, x='treatment', y='accuracy_by_group', hue = 'treatment', palette=colors)\n",
    "g.set_titles(col_template = '{col_name}')\n",
    "\n",
    "#Change y axis label\n",
    "g.set_axis_labels('Treatment', 'Accuracy')\n",
    "\n",
    "plt.savefig('train_test_accuracy_position_decoder.png', dpi=300)"
   ]
  },
  {
   "cell_type": "markdown",
   "metadata": {},
   "source": [
    "### F1 Plot"
   ]
  },
  {
   "cell_type": "code",
   "execution_count": 25,
   "metadata": {},
   "outputs": [],
   "source": [
    "df_plot = df.copy()\n",
    "df_plot['train_f1_by_group'] = df['train_f1_by_group'].apply(lambda x: [v[1] for v in sorted(x.items())])\n",
    "df_plot['test_f1_by_group'] = df['test_f1_by_group'].apply(lambda x: [v[1] for v in sorted(x.items())])\n",
    "\n",
    "df_plot_test = df_plot.explode('test_f1_by_group')\n",
    "df_plot_test = df_plot_test.rename(columns={'test_f1_by_group': 'f1_by_group'})\n",
    "df_plot_test['condition'] = 'rev'\n",
    "df_plot_train = df_plot.explode('train_f1_by_group')\n",
    "df_plot_train = df_plot_train.rename(columns={'train_f1_by_group': 'f1_by_group'})\n",
    "df_plot_train['condition'] = 'train'\n",
    "\n",
    "#Concat the two\n",
    "df_plot = pd.concat([df_plot_test, df_plot_train], ignore_index=True)\n",
    "\n",
    "df_plot['treatment'] = df_plot['animal'].str.split('_').str[-1].str.split(' ').str[0]\n",
    "df_plot = df_plot[['animal', 'treatment', 'condition', 'f1_by_group']]"
   ]
  },
  {
   "cell_type": "code",
   "execution_count": 26,
   "metadata": {},
   "outputs": [
    {
     "data": {
      "text/plain": [
       "<Figure size 720x432 with 0 Axes>"
      ]
     },
     "metadata": {},
     "output_type": "display_data"
    },
    {
     "data": {
      "image/png": "[encoded data removed]",
      "text/plain": [
       "<Figure size 432x216 with 2 Axes>"
      ]
     },
     "metadata": {
      "needs_background": "light"
     },
     "output_type": "display_data"
    }
   ],
   "source": [
    "#Use seaborn to make a set of box plots, one for each animal\n",
    "import seaborn as sns\n",
    "import matplotlib.pyplot as plt\n",
    "\n",
    "plt.figure(figsize=(10, 6))\n",
    "g = sns.FacetGrid(df_plot, col = 'condition', hue = 'treatment')\n",
    "\n",
    "colors = {\n",
    "    'Control': '#64b1af',\n",
    "    'Clonidine': '#7c4d87',\n",
    "    'IDX': '#ffcb77'\n",
    "}\n",
    "g.map_dataframe(sns.barplot, x='treatment', y='f1_by_group', hue = 'treatment', palette=colors)\n",
    "g.set_titles(col_template = '{col_name}')\n",
    "\n",
    "#Change axis labels\n",
    "g.set_axis_labels('Treatment', 'F1 Score')\n",
    "\n",
    "plt.savefig('train_test_f1_position_decoder.png', dpi=300)"
   ]
  },
  {
   "cell_type": "markdown",
   "metadata": {},
   "source": [
    "## Shuffling"
   ]
  },
  {
   "cell_type": "code",
   "execution_count": null,
   "metadata": {},
   "outputs": [],
   "source": []
  },
  {
   "cell_type": "markdown",
   "metadata": {},
   "source": [
    "### Effect size"
   ]
  },
  {
   "cell_type": "markdown",
   "metadata": {},
   "source": [
    "How can we quantify this? We have variance in accuracy for previously-rewarded maze choice, and variance in accuracy "
   ]
  },
  {
   "cell_type": "code",
   "execution_count": 25,
   "metadata": {},
   "outputs": [
    {
     "data": {
      "text/html": [
       "<div>\n",
       "<style scoped>\n",
       "    .dataframe tbody tr th:only-of-type {\n",
       "        vertical-align: middle;\n",
       "    }\n",
       "\n",
       "    .dataframe tbody tr th {\n",
       "        vertical-align: top;\n",
       "    }\n",
       "\n",
       "    .dataframe thead th {\n",
       "        text-align: right;\n",
       "    }\n",
       "</style>\n",
       "<table border=\"1\" class=\"dataframe\">\n",
       "  <thead>\n",
       "    <tr style=\"text-align: right;\">\n",
       "      <th></th>\n",
       "      <th>animal</th>\n",
       "      <th>effect_size</th>\n",
       "      <th>maze_choice</th>\n",
       "      <th>test_accuracy_by_group</th>\n",
       "      <th>abs_effect_size</th>\n",
       "      <th>animal_name</th>\n",
       "    </tr>\n",
       "  </thead>\n",
       "  <tbody>\n",
       "    <tr>\n",
       "      <th>0</th>\n",
       "      <td>results_animal_Control Animal 1</td>\n",
       "      <td>2.451364</td>\n",
       "      <td>{'7.0-01': 'left', '7.0-02': 'right', '7.0-03'...</td>\n",
       "      <td>{'final_010719.Rds-7.0-01': 0.6161490683229813...</td>\n",
       "      <td>2.451364</td>\n",
       "      <td>Control</td>\n",
       "    </tr>\n",
       "    <tr>\n",
       "      <th>1</th>\n",
       "      <td>results_animal_Control Animal 10</td>\n",
       "      <td>-1.208335</td>\n",
       "      <td>{'7-01': 'right', '7-02': 'left', '7-03': 'rig...</td>\n",
       "      <td>{'final_100208.Rds-7-01': 0.9097327281896117, ...</td>\n",
       "      <td>1.208335</td>\n",
       "      <td>Control</td>\n",
       "    </tr>\n",
       "    <tr>\n",
       "      <th>2</th>\n",
       "      <td>results_animal_Control Animal M3</td>\n",
       "      <td>3.101756</td>\n",
       "      <td>{'7.0-01': 'left', '7.0-02': 'left', '7.0-03':...</td>\n",
       "      <td>{'final_M30821.Rds-7.0-01': 0.6894618834080718...</td>\n",
       "      <td>3.101756</td>\n",
       "      <td>Control</td>\n",
       "    </tr>\n",
       "    <tr>\n",
       "      <th>3</th>\n",
       "      <td>results_animal_Clonidine Animal F4</td>\n",
       "      <td>5.091168</td>\n",
       "      <td>{'7.0-01': 'left', '7.0-02': 'left', '7.0-03':...</td>\n",
       "      <td>{'final_F40821.Rds-7.0-01': 0.7461679950950337...</td>\n",
       "      <td>5.091168</td>\n",
       "      <td>Clonidine</td>\n",
       "    </tr>\n",
       "    <tr>\n",
       "      <th>4</th>\n",
       "      <td>results_animal_IDX Animal F3</td>\n",
       "      <td>1.894003</td>\n",
       "      <td>{'7.0-01': 'left', '7.0-02': 'left', '7.0-03':...</td>\n",
       "      <td>{'final_F30821.Rds-7.0-01': 0.2440191387559808...</td>\n",
       "      <td>1.894003</td>\n",
       "      <td>IDX</td>\n",
       "    </tr>\n",
       "    <tr>\n",
       "      <th>5</th>\n",
       "      <td>results_animal_Clonidine Animal 83</td>\n",
       "      <td>3.033472</td>\n",
       "      <td>{'7.0-1.0': 'left', '7.0-10.0': 'left', '7.0-1...</td>\n",
       "      <td>{'final_830719.Rds-7.0-1.0': 0.631787330316742...</td>\n",
       "      <td>3.033472</td>\n",
       "      <td>Clonidine</td>\n",
       "    </tr>\n",
       "    <tr>\n",
       "      <th>6</th>\n",
       "      <td>results_animal_IDX Animal 80</td>\n",
       "      <td>-1.207220</td>\n",
       "      <td>{'7.0-01': 'left', '7.0-02': 'right', '7.0-03'...</td>\n",
       "      <td>{'final_801003.Rds-7.0-01': 0.4553917765709853...</td>\n",
       "      <td>1.207220</td>\n",
       "      <td>IDX</td>\n",
       "    </tr>\n",
       "  </tbody>\n",
       "</table>\n",
       "</div>"
      ],
      "text/plain": [
       "                               animal  effect_size  \\\n",
       "0     results_animal_Control Animal 1     2.451364   \n",
       "1    results_animal_Control Animal 10    -1.208335   \n",
       "2    results_animal_Control Animal M3     3.101756   \n",
       "3  results_animal_Clonidine Animal F4     5.091168   \n",
       "4        results_animal_IDX Animal F3     1.894003   \n",
       "5  results_animal_Clonidine Animal 83     3.033472   \n",
       "6        results_animal_IDX Animal 80    -1.207220   \n",
       "\n",
       "                                         maze_choice  \\\n",
       "0  {'7.0-01': 'left', '7.0-02': 'right', '7.0-03'...   \n",
       "1  {'7-01': 'right', '7-02': 'left', '7-03': 'rig...   \n",
       "2  {'7.0-01': 'left', '7.0-02': 'left', '7.0-03':...   \n",
       "3  {'7.0-01': 'left', '7.0-02': 'left', '7.0-03':...   \n",
       "4  {'7.0-01': 'left', '7.0-02': 'left', '7.0-03':...   \n",
       "5  {'7.0-1.0': 'left', '7.0-10.0': 'left', '7.0-1...   \n",
       "6  {'7.0-01': 'left', '7.0-02': 'right', '7.0-03'...   \n",
       "\n",
       "                              test_accuracy_by_group  abs_effect_size  \\\n",
       "0  {'final_010719.Rds-7.0-01': 0.6161490683229813...         2.451364   \n",
       "1  {'final_100208.Rds-7-01': 0.9097327281896117, ...         1.208335   \n",
       "2  {'final_M30821.Rds-7.0-01': 0.6894618834080718...         3.101756   \n",
       "3  {'final_F40821.Rds-7.0-01': 0.7461679950950337...         5.091168   \n",
       "4  {'final_F30821.Rds-7.0-01': 0.2440191387559808...         1.894003   \n",
       "5  {'final_830719.Rds-7.0-1.0': 0.631787330316742...         3.033472   \n",
       "6  {'final_801003.Rds-7.0-01': 0.4553917765709853...         1.207220   \n",
       "\n",
       "  animal_name  \n",
       "0    Control   \n",
       "1    Control   \n",
       "2    Control   \n",
       "3  Clonidine   \n",
       "4        IDX   \n",
       "5  Clonidine   \n",
       "6        IDX   "
      ]
     },
     "execution_count": 25,
     "metadata": {},
     "output_type": "execute_result"
    }
   ],
   "source": [
    "df['abs_effect_size'] = df['effect_size'].abs()\n",
    "df['animal_name'] = df['animal'].str.split('Animal ').str[0].str.split('_').str[-1]\n",
    "df"
   ]
  },
  {
   "cell_type": "code",
   "execution_count": 26,
   "metadata": {},
   "outputs": [],
   "source": [
    "#Compute mean of abs_effect_size by animal_name\n",
    "df_mean = df.groupby('animal_name').mean().reset_index()"
   ]
  },
  {
   "cell_type": "code",
   "execution_count": 27,
   "metadata": {},
   "outputs": [
    {
     "data": {
      "text/html": [
       "<div>\n",
       "<style scoped>\n",
       "    .dataframe tbody tr th:only-of-type {\n",
       "        vertical-align: middle;\n",
       "    }\n",
       "\n",
       "    .dataframe tbody tr th {\n",
       "        vertical-align: top;\n",
       "    }\n",
       "\n",
       "    .dataframe thead th {\n",
       "        text-align: right;\n",
       "    }\n",
       "</style>\n",
       "<table border=\"1\" class=\"dataframe\">\n",
       "  <thead>\n",
       "    <tr style=\"text-align: right;\">\n",
       "      <th></th>\n",
       "      <th>animal_name</th>\n",
       "      <th>effect_size</th>\n",
       "      <th>abs_effect_size</th>\n",
       "    </tr>\n",
       "  </thead>\n",
       "  <tbody>\n",
       "    <tr>\n",
       "      <th>0</th>\n",
       "      <td>Clonidine</td>\n",
       "      <td>4.062320</td>\n",
       "      <td>4.062320</td>\n",
       "    </tr>\n",
       "    <tr>\n",
       "      <th>1</th>\n",
       "      <td>Control</td>\n",
       "      <td>1.448262</td>\n",
       "      <td>2.253818</td>\n",
       "    </tr>\n",
       "    <tr>\n",
       "      <th>2</th>\n",
       "      <td>IDX</td>\n",
       "      <td>0.343392</td>\n",
       "      <td>1.550611</td>\n",
       "    </tr>\n",
       "  </tbody>\n",
       "</table>\n",
       "</div>"
      ],
      "text/plain": [
       "  animal_name  effect_size  abs_effect_size\n",
       "0  Clonidine      4.062320         4.062320\n",
       "1    Control      1.448262         2.253818\n",
       "2        IDX      0.343392         1.550611"
      ]
     },
     "execution_count": 27,
     "metadata": {},
     "output_type": "execute_result"
    }
   ],
   "source": [
    "df_mean"
   ]
  },
  {
   "cell_type": "code",
   "execution_count": 42,
   "metadata": {},
   "outputs": [],
   "source": [
    "# Run an anova test on the abs_effect_size by animal_name\n",
    "from scipy import stats\n",
    "\n",
    "group_a = df[df.animal_name == 'Clonidine ']['abs_effect_size']\n",
    "group_b = df[df.animal_name == 'Control ']['abs_effect_size']\n",
    "group_c = df[df.animal_name == 'IDX ']['abs_effect_size']\n",
    "\n",
    "f_stat, p_value = stats.kruskal(group_a, group_b, group_c)"
   ]
  },
  {
   "cell_type": "code",
   "execution_count": 43,
   "metadata": {},
   "outputs": [
    {
     "data": {
      "text/plain": [
       "0.18009231214795254"
      ]
     },
     "execution_count": 43,
     "metadata": {},
     "output_type": "execute_result"
    }
   ],
   "source": [
    "p_value"
   ]
  },
  {
   "cell_type": "code",
   "execution_count": null,
   "metadata": {},
   "outputs": [],
   "source": []
  }
 ],
 "metadata": {
  "kernelspec": {
   "display_name": "DEEPLABCUT",
   "language": "python",
   "name": "python3"
  },
  "language_info": {
   "codemirror_mode": {
    "name": "ipython",
    "version": 3
   },
   "file_extension": ".py",
   "mimetype": "text/x-python",
   "name": "python",
   "nbconvert_exporter": "python",
   "pygments_lexer": "ipython3",
   "version": "3.8.6"
  },
  "orig_nbformat": 4
 },
 "nbformat": 4,
 "nbformat_minor": 2
}
