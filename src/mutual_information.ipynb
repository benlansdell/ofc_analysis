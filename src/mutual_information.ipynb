{
 "cells": [
  {
   "attachments": {},
   "cell_type": "markdown",
   "metadata": {},
   "source": [
    "## Questions\n",
    "\n",
    "* Mutual information plots by cell category"
   ]
  },
  {
   "cell_type": "code",
   "execution_count": 1,
   "metadata": {},
   "outputs": [
    {
     "name": "stdout",
     "output_type": "stream",
     "text": [
      "/home/blansdel/projects/schwarz/decoder\n"
     ]
    }
   ],
   "source": [
    "cd ~/projects/schwarz/decoder"
   ]
  },
  {
   "attachments": {},
   "cell_type": "markdown",
   "metadata": {},
   "source": [
    "Imports"
   ]
  },
  {
   "cell_type": "code",
   "execution_count": 7,
   "metadata": {},
   "outputs": [],
   "source": [
    "import os \n",
    "import pandas as pd\n",
    "import numpy as np\n",
    "import matplotlib.pyplot as plt\n",
    "import seaborn as sns \n",
    "\n",
    "from itertools import combinations, product\n",
    "from collections import defaultdict\n",
    "from collections import Counter\n",
    "from scipy.stats import chi2_contingency\n",
    "from sklearn.metrics import confusion_matrix \n",
    "from collections import defaultdict\n",
    "\n",
    "from src.lib import compute_stats\n"
   ]
  },
  {
   "attachments": {},
   "cell_type": "markdown",
   "metadata": {},
   "source": [
    "Load cell type information"
   ]
  },
  {
   "cell_type": "code",
   "execution_count": 8,
   "metadata": {},
   "outputs": [],
   "source": [
    "threshold = 0.05\n",
    "sessions = [2, 6, 7, 9]\n",
    "str_sessions = [str(x) for x in sessions]\n",
    "events = ['ReSpout_pos', 'ReSpout_neg', \\\n",
    "       'UnSpout_pos', 'UnSpout_neg', 'ReMid_pos', 'ReMid_neg', 'UnMid_pos', \\\n",
    "       'UnMid_neg']\n",
    "       \n",
    "fn_in = './data/input/type_info.csv'\n",
    "df = pd.read_csv(fn_in)\n",
    "animals = df.Animal.unique()\n",
    "n_cond = 3\n",
    "n_animals = len(animals)\n",
    "conditions = ['Control', 'Idazoxan', 'Clonidine']\n",
    "cond_map = {'1':'Control',\n",
    "           '10':'Control',\n",
    "           '4':'Idazoxan',\n",
    "           '50':'Clonidine',\n",
    "           '80':'Idazoxan',\n",
    "           '83':'Clonidine',\n",
    "           'F3':'Idazoxan',\n",
    "           'F4':'Clonidine',\n",
    "           'M3':'Control'}\n",
    "df['treatment'] = df.Animal.map(lambda x: cond_map[x])\n",
    "fn_in = './data/input/explore2.csv'\n",
    "df_orig = pd.read_csv(fn_in)\n",
    "df = pd.merge(df, df_orig[['Animal', 'Session', 'CellID', 'MatchID']], on = ['Animal', 'Session', 'CellID'])\n",
    "df['CellType'] = df['Type'].astype(str)"
   ]
  },
  {
   "cell_type": "code",
   "execution_count": 24,
   "metadata": {},
   "outputs": [],
   "source": [
    "def mutual_info(x, y, n_cat = 2, labels = None, return_matrix = False):\n",
    "    mi = 0\n",
    "    N = len(x)\n",
    "    if N == 0: return 0\n",
    "    assert len(x) == len(y)\n",
    "    \n",
    "    if labels is None:\n",
    "        iterator1 = range(n_cat)\n",
    "        iterator2 = range(n_cat)\n",
    "        x = x.astype(int)\n",
    "        y = y.astype(int)\n",
    "        if return_matrix:\n",
    "            mat = np.zeros((n_cat, n_cat))\n",
    "    else:\n",
    "        iterator1 = labels \n",
    "        iterator2 = labels\n",
    "        if return_matrix:\n",
    "            mat = np.zeros((len(labels), len(labels)))\n",
    "\n",
    "    for idx_i, i in enumerate(iterator1):\n",
    "        for idx_j, j in enumerate(iterator2):\n",
    "            pij = sum((x == i) & (y == j))/N\n",
    "            pi = sum(x == i)/N\n",
    "            pj = sum(y == j)/N\n",
    "            if (pij == 0) or (pi == 0) or (pj == 0): continue\n",
    "            mi += pij*np.log2(pij/pi/pj)\n",
    "            if return_matrix:\n",
    "                mat[idx_i, idx_j] = pij\n",
    "\n",
    "    if return_matrix:\n",
    "        return mi, mat\n",
    "    else:\n",
    "        return mi"
   ]
  },
  {
   "attachments": {},
   "cell_type": "markdown",
   "metadata": {},
   "source": [
    "Compute mutual information between pairs of days. Shuffle labels 100 times to determine what a baseline MI score to expect, given no relation between labels. Count number of pairs of recordings that have significant mutual information in labels (at alpha level 0.05)."
   ]
  },
  {
   "cell_type": "code",
   "execution_count": 25,
   "metadata": {},
   "outputs": [
    {
     "name": "stdout",
     "output_type": "stream",
     "text": [
      "cells tracked throughout 3 recordings 155 out of 489\n",
      "cells tracked throughout 3 recordings 94 out of 286\n",
      "cells tracked throughout 3 recordings 276 out of 744\n",
      "cells tracked throughout 3 recordings 139 out of 733\n",
      "cells tracked throughout 3 recordings 184 out of 402\n",
      "cells tracked throughout 3 recordings 193 out of 652\n",
      "cells tracked throughout 3 recordings 105 out of 277\n",
      "cells tracked throughout 3 recordings 140 out of 423\n",
      "cells tracked throughout 3 recordings 439 out of 994\n"
     ]
    }
   ],
   "source": [
    "n_reps = 100\n",
    "alpha = 0.05\n",
    "mis_all = {}\n",
    "mis_pvals_all = {}\n",
    "mis_sig_all = {}\n",
    "mis_matrices = {}\n",
    "\n",
    "#Set the random seed in pandas to 42\n",
    "np.random.seed(42)\n",
    "\n",
    "for treatment in conditions:\n",
    "    mis_all[treatment] = {}\n",
    "    mis_pvals_all[treatment] = {}\n",
    "    mis_sig_all[treatment] = {}\n",
    "    mis_matrices[treatment] = {}\n",
    "    animals = df.loc[df.treatment == treatment, \"Animal\"].unique()\n",
    "    for animal in animals:\n",
    "        df_con = df[(df.treatment == treatment) & (df.Animal == animal)]\n",
    "        cell_sums, cell_stats, cell_sums_list, animals = compute_stats(df, treatment)\n",
    "        cell_fully_tracked = [k for k,v in cell_stats[animal].items() if np.sum(v[1:]) == 3]\n",
    "        print(\"cells tracked throughout 3 recordings\", len(cell_fully_tracked), 'out of', len(cell_stats[animal]))\n",
    "        celltypes = sorted(df_con.CellType.unique())\n",
    "\n",
    "        mis = np.zeros((4,4))\n",
    "        mis_pval = np.zeros((4,4))\n",
    "        mis_sig = np.zeros((4,4))\n",
    "        mis_matrices[treatment][animal] = {}    \n",
    "        for i, s_1 in enumerate(sessions):\n",
    "            for j, s_2 in enumerate(sessions):\n",
    "                if s_1 == s_2: continue \n",
    "                ds1 = df_con.loc[df_con.Session == s_1].set_index('MatchID')\n",
    "                ds1 = ds1[ds1.index.isin(cell_fully_tracked)]\n",
    "                ds2 = df_con.loc[df_con.Session == s_2].set_index('MatchID')\n",
    "                ds2 = ds2[ds2.index.isin(cell_fully_tracked)]\n",
    "                ds = pd.merge(ds1, ds2, on = 'MatchID')\n",
    "                mi, mat = mutual_info(ds[f'CellType_x'], ds[f'CellType_y'], labels = celltypes, return_matrix = True)\n",
    "                #Compute MI null distribution\n",
    "                null_mis = [mutual_info(ds[f'CellType_x'].values, ds[f'CellType_y'].sample(frac = 1).values, labels = celltypes) for _ in range(n_reps)]\n",
    "                mis[i,j] = mi\n",
    "                mis_pval[i,j] = sum(mi < np.array(null_mis))/n_reps\n",
    "                mis_matrices[treatment][animal][(s_1, s_2)] = mat\n",
    "\n",
    "        mis_sig_all[treatment][animal] = mis_pval < alpha\n",
    "        mis_all[treatment][animal] = mis \n",
    "        mis_pvals_all[treatment][animal] = mis_pval        "
   ]
  },
  {
   "attachments": {},
   "cell_type": "markdown",
   "metadata": {},
   "source": [
    "Summarize significant pairs of recording days."
   ]
  },
  {
   "cell_type": "code",
   "execution_count": 16,
   "metadata": {},
   "outputs": [],
   "source": [
    "\n",
    "sig_counts = {'Control': defaultdict(int), 'Idazoxan': defaultdict(int), 'Clonidine': defaultdict(int)}\n",
    "sig_counts_indices = {'Control': defaultdict(int), 'Idazoxan': defaultdict(int), 'Clonidine': defaultdict(int)}\n",
    "for cond in mis_pvals_all.keys():\n",
    "    animals = list(mis_pvals_all[cond].keys())\n",
    "    for animal in animals:\n",
    "        m = mis_pvals_all[cond][animal]\n",
    "        indices = zip(*np.where(m <= threshold))\n",
    "        for idx in indices:\n",
    "            if idx[0] != idx[1]:\n",
    "                d1, d2 = idx\n",
    "                days = (sessions[d1], sessions[d2])\n",
    "                sig_counts[cond][days] += 1\n",
    "                sig_counts_indices[cond][(d1, d2)] += 1\n",
    "\n",
    "heatmaps = {}\n",
    "for cond in mis_pvals_all.keys():\n",
    "    heatmaps[cond] = np.zeros((4,4))\n",
    "    for key, val in sig_counts_indices[cond].items():\n",
    "        if key[0] > key[1]: continue\n",
    "        heatmaps[cond][key[0], key[1]] = val\n"
   ]
  },
  {
   "cell_type": "code",
   "execution_count": 17,
   "metadata": {},
   "outputs": [
    {
     "data": {
      "text/plain": [
       "Text(0.5, 0.98, 'Number of days with significant MI in response')"
      ]
     },
     "execution_count": 17,
     "metadata": {},
     "output_type": "execute_result"
    },
    {
     "data": {
      "image/png": "[encoded data removed]",
      "text/plain": [
       "<Figure size 1000x400 with 4 Axes>"
      ]
     },
     "metadata": {},
     "output_type": "display_data"
    }
   ],
   "source": [
    "fig, axes = plt.subplots(1,3, figsize = (10,4), sharey = True)\n",
    "for idx, cond in enumerate(sig_counts_indices.keys()):\n",
    "    im = axes[idx].imshow(heatmaps[cond][1:,1:], vmin = 0, vmax = 3)\n",
    "    axes[idx].set_title(cond)        \n",
    "    axes[idx].set_xticks(range(3))\n",
    "    axes[idx].set_yticks(range(3))\n",
    "    axes[idx].set_xticklabels(sessions[1:])\n",
    "    axes[idx].set_yticklabels(sessions[1:])\n",
    "\n",
    "fig.subplots_adjust(right=0.8)\n",
    "cbar_ax = fig.add_axes([0.85, 0.15, 0.05, 0.7])\n",
    "fig.colorbar(im, cax=cbar_ax)\n",
    "\n",
    "plt.suptitle('Number of days with significant MI in response')"
   ]
  },
  {
   "attachments": {},
   "cell_type": "markdown",
   "metadata": {},
   "source": [
    "## Illustrative plot of what goes into mutual information calculation"
   ]
  },
  {
   "cell_type": "code",
   "execution_count": 27,
   "metadata": {},
   "outputs": [
    {
     "data": {
      "text/plain": [
       "array([[0.06451613, 0.03225806, 0.01935484, 0.03870968],\n",
       "       [0.14193548, 0.20645161, 0.15483871, 0.18064516],\n",
       "       [0.00645161, 0.00645161, 0.01290323, 0.01935484],\n",
       "       [0.03225806, 0.00645161, 0.02580645, 0.0516129 ]])"
      ]
     },
     "execution_count": 27,
     "metadata": {},
     "output_type": "execute_result"
    }
   ],
   "source": [
    "mis_matrices['Control']['1'][6,7]"
   ]
  },
  {
   "cell_type": "code",
   "execution_count": 39,
   "metadata": {},
   "outputs": [
    {
     "data": {
      "image/png": "[encoded data removed]",
      "text/plain": [
       "<Figure size 1200x1200 with 9 Axes>"
      ]
     },
     "metadata": {},
     "output_type": "display_data"
    }
   ],
   "source": [
    "days = (6,7)\n",
    "conditions = ['Control', 'Idazoxan', 'Clonidine']\n",
    "fig, axes = plt.subplots(3,3, figsize = (12,12), sharey = True, sharex = True)\n",
    "fig.suptitle(f'Cell types between days {days}')\n",
    "for i, cond in enumerate(conditions):\n",
    "    animals = list(mis_matrices[cond].keys())   \n",
    "    for j, animal in enumerate(animals):\n",
    "        axes[i,j].imshow(mis_matrices[cond][animal][days], vmin = 0, vmax = 0.3, origin = 'lower')\n",
    "        #Set y tick labels to be integers\n",
    "        axes[i,j].set_yticks(range(4))\n",
    "        if j == 1:\n",
    "            axes[i,j].set_title(cond + '\\n' + animal)\n",
    "        else:\n",
    "            axes[i,j].set_title(animal)"
   ]
  },
  {
   "cell_type": "code",
   "execution_count": null,
   "metadata": {},
   "outputs": [],
   "source": []
  }
 ],
 "metadata": {
  "kernelspec": {
   "display_name": "Python 3",
   "language": "python",
   "name": "python3"
  },
  "language_info": {
   "codemirror_mode": {
    "name": "ipython",
    "version": 3
   },
   "file_extension": ".py",
   "mimetype": "text/x-python",
   "name": "python",
   "nbconvert_exporter": "python",
   "pygments_lexer": "ipython3",
   "version": "3.8.15"
  },
  "toc": {
   "base_numbering": 1,
   "nav_menu": {},
   "number_sections": true,
   "sideBar": true,
   "skip_h1_title": false,
   "title_cell": "Table of Contents",
   "title_sidebar": "Contents",
   "toc_cell": false,
   "toc_position": {},
   "toc_section_display": true,
   "toc_window_display": false
  },
  "vscode": {
   "interpreter": {
    "hash": "7ed7bbabe2a599ba50ab5d8e41fd9bf96f7e1ad123cb55c50e99bd01ff233f03"
   }
  }
 },
 "nbformat": 4,
 "nbformat_minor": 2
}
