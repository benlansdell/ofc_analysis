{
 "cells": [
  {
   "attachments": {},
   "cell_type": "markdown",
   "metadata": {},
   "source": [
    "## Questions\n",
    "\n",
    "* Mutual information plots by cell category"
   ]
  },
  {
   "cell_type": "code",
   "execution_count": 1,
   "metadata": {},
   "outputs": [
    {
     "name": "stdout",
     "output_type": "stream",
     "text": [
      "/home/blansdel/projects/schwarz/decoder\n"
     ]
    }
   ],
   "source": [
    "cd ~/projects/schwarz/decoder"
   ]
  },
  {
   "attachments": {},
   "cell_type": "markdown",
   "metadata": {},
   "source": [
    "Imports"
   ]
  },
  {
   "cell_type": "code",
   "execution_count": 2,
   "metadata": {},
   "outputs": [],
   "source": [
    "import os \n",
    "import pandas as pd\n",
    "import numpy as np\n",
    "import matplotlib.pyplot as plt\n",
    "import seaborn as sns \n",
    "\n",
    "from itertools import combinations, product\n",
    "from collections import defaultdict\n",
    "from collections import Counter\n",
    "from scipy.stats import chi2_contingency\n",
    "from sklearn.metrics import confusion_matrix \n",
    "\n",
    "from src.lib import compute_stats\n"
   ]
  },
  {
   "attachments": {},
   "cell_type": "markdown",
   "metadata": {},
   "source": [
    "Load cell type information"
   ]
  },
  {
   "cell_type": "code",
   "execution_count": 3,
   "metadata": {},
   "outputs": [],
   "source": [
    "\n",
    "sessions = [2, 6, 7, 9]\n",
    "str_sessions = [str(x) for x in sessions]\n",
    "events = ['ReSpout_pos', 'ReSpout_neg', \\\n",
    "       'UnSpout_pos', 'UnSpout_neg', 'ReMid_pos', 'ReMid_neg', 'UnMid_pos', \\\n",
    "       'UnMid_neg']\n",
    "       \n",
    "fn_in = './data/input/type_info.csv'\n",
    "df = pd.read_csv(fn_in)\n",
    "animals = df.Animal.unique()\n",
    "n_cond = 3\n",
    "n_animals = len(animals)\n",
    "conditions = ['Control', 'Idazoxan', 'Clonidine']\n",
    "cond_map = {'1':'Control',\n",
    "           '10':'Control',\n",
    "           '4':'Idazoxan',\n",
    "           '50':'Clonidine',\n",
    "           '80':'Idazoxan',\n",
    "           '83':'Clonidine',\n",
    "           'F3':'Idazoxan',\n",
    "           'F4':'Clonidine',\n",
    "           'M3':'Control'}\n",
    "df['treatment'] = df.Animal.map(lambda x: cond_map[x])\n",
    "fn_in = './data/input/explore2.csv'\n",
    "df_orig = pd.read_csv(fn_in)\n",
    "df = pd.merge(df, df_orig[['Animal', 'Session', 'CellID', 'MatchID']], on = ['Animal', 'Session', 'CellID'])\n",
    "df['CellType'] = df['Type'].astype(str)"
   ]
  },
  {
   "cell_type": "code",
   "execution_count": 4,
   "metadata": {},
   "outputs": [],
   "source": [
    "def mutual_info(x, y, n_cat = 2, labels = None):\n",
    "    mi = 0\n",
    "    N = len(x)\n",
    "    if N == 0: return 0\n",
    "    assert len(x) == len(y)\n",
    "    \n",
    "    if labels is None:\n",
    "        iterator1 = range(n_cat)\n",
    "        iterator2 = range(n_cat)\n",
    "        x = x.astype(int)\n",
    "        y = y.astype(int)\n",
    "    else:\n",
    "        iterator1 = labels \n",
    "        iterator2 = labels\n",
    "\n",
    "    for i in iterator1:\n",
    "        for j in iterator2:\n",
    "            pij = sum((x == i) & (y == j))/N\n",
    "            pi = sum(x == i)/N\n",
    "            pj = sum(y == j)/N\n",
    "            if (pij == 0) or (pi == 0) or (pj == 0): continue\n",
    "            mi += pij*np.log2(pij/pi/pj)\n",
    "    return mi"
   ]
  },
  {
   "attachments": {},
   "cell_type": "markdown",
   "metadata": {},
   "source": [
    "Compute mutual information between pairs of days. Shuffle labels 100 times to determine what a baseline MI score to expect, given no relation between labels. Count number of pairs of recordings that have significant mutual information in labels (at alpha level 0.05)."
   ]
  },
  {
   "cell_type": "code",
   "execution_count": 5,
   "metadata": {},
   "outputs": [
    {
     "name": "stdout",
     "output_type": "stream",
     "text": [
      "cells tracked throughout 3 recordings 155 out of 489\n",
      "cells tracked throughout 3 recordings 94 out of 286\n",
      "cells tracked throughout 3 recordings 276 out of 744\n",
      "cells tracked throughout 3 recordings 139 out of 733\n",
      "cells tracked throughout 3 recordings 184 out of 402\n",
      "cells tracked throughout 3 recordings 193 out of 652\n",
      "cells tracked throughout 3 recordings 105 out of 277\n",
      "cells tracked throughout 3 recordings 140 out of 423\n",
      "cells tracked throughout 3 recordings 439 out of 994\n"
     ]
    }
   ],
   "source": [
    "n_reps = 100\n",
    "alpha = 0.05\n",
    "mis_all = {}\n",
    "mis_pvals_all = {}\n",
    "mis_sig_all = {}\n",
    "\n",
    "#Set the random seed in pandas to 42\n",
    "np.random.seed(42)\n",
    "\n",
    "for treatment in conditions:\n",
    "    mis_all[treatment] = {}\n",
    "    mis_pvals_all[treatment] = {}\n",
    "    mis_sig_all[treatment] = {}\n",
    "    animals = df.loc[df.treatment == treatment, \"Animal\"].unique()\n",
    "    for animal in animals:\n",
    "        df_con = df[(df.treatment == treatment) & (df.Animal == animal)]\n",
    "        cell_sums, cell_stats, cell_sums_list, animals = compute_stats(df, treatment)\n",
    "        cell_fully_tracked = [k for k,v in cell_stats[animal].items() if np.sum(v[1:]) == 3]\n",
    "        print(\"cells tracked throughout 3 recordings\", len(cell_fully_tracked), 'out of', len(cell_stats[animal]))\n",
    "        celltypes = df_con.CellType.unique()\n",
    "\n",
    "        mis = np.zeros((4,4))\n",
    "        mis_pval = np.zeros((4,4))\n",
    "        mis_sig = np.zeros((4,4))\n",
    "        for i, s_1 in enumerate(sessions):\n",
    "            for j, s_2 in enumerate(sessions):\n",
    "                if s_1 == s_2: continue \n",
    "                ds1 = df_con.loc[df_con.Session == s_1].set_index('MatchID')\n",
    "                ds1 = ds1[ds1.index.isin(cell_fully_tracked)]\n",
    "                ds2 = df_con.loc[df_con.Session == s_2].set_index('MatchID')\n",
    "                ds2 = ds2[ds2.index.isin(cell_fully_tracked)]\n",
    "                ds = pd.merge(ds1, ds2, on = 'MatchID')\n",
    "                mi = mutual_info(ds[f'CellType_x'], ds[f'CellType_y'], labels = celltypes)\n",
    "                #Compute MI null distribution\n",
    "                null_mis = [mutual_info(ds[f'CellType_x'].values, ds[f'CellType_y'].sample(frac = 1).values, labels = celltypes) for _ in range(n_reps)]\n",
    "                mis[i,j] = mi\n",
    "                mis_pval[i,j] = sum(mi < np.array(null_mis))/n_reps\n",
    "\n",
    "        mis_sig_all[treatment][animal] = mis_pval < alpha\n",
    "        mis_all[treatment][animal] = mis \n",
    "        mis_pvals_all[treatment][animal] = mis_pval        "
   ]
  },
  {
   "cell_type": "code",
   "execution_count": 6,
   "metadata": {},
   "outputs": [
    {
     "data": {
      "text/plain": [
       "{'Control': {'1': array([[0.  , 0.8 , 0.28, 0.52],\n",
       "         [0.73, 0.  , 0.22, 0.43],\n",
       "         [0.24, 0.29, 0.  , 0.  ],\n",
       "         [0.46, 0.35, 0.  , 0.  ]]),\n",
       "  '10': array([[0.  , 0.01, 0.03, 0.39],\n",
       "         [0.03, 0.  , 0.03, 0.01],\n",
       "         [0.03, 0.01, 0.  , 0.07],\n",
       "         [0.39, 0.02, 0.08, 0.  ]]),\n",
       "  'M3': array([[0.  , 0.41, 0.14, 0.04],\n",
       "         [0.39, 0.  , 0.  , 0.26],\n",
       "         [0.19, 0.  , 0.  , 0.  ],\n",
       "         [0.09, 0.36, 0.  , 0.  ]])},\n",
       " 'Idazoxan': {'4': array([[0.  , 0.87, 0.83, 0.44],\n",
       "         [0.9 , 0.  , 0.25, 0.45],\n",
       "         [0.83, 0.38, 0.  , 0.2 ],\n",
       "         [0.46, 0.52, 0.23, 0.  ]]),\n",
       "  '80': array([[0.  , 0.78, 0.6 , 0.24],\n",
       "         [0.71, 0.  , 0.01, 0.29],\n",
       "         [0.63, 0.01, 0.  , 0.  ],\n",
       "         [0.31, 0.26, 0.02, 0.  ]]),\n",
       "  'F3': array([[0.  , 0.82, 0.46, 0.91],\n",
       "         [0.83, 0.  , 0.14, 0.09],\n",
       "         [0.39, 0.09, 0.  , 0.01],\n",
       "         [0.93, 0.08, 0.01, 0.  ]])},\n",
       " 'Clonidine': {'50': array([[0.  , 0.06, 0.62, 0.71],\n",
       "         [0.08, 0.  , 0.  , 0.  ],\n",
       "         [0.64, 0.  , 0.  , 0.12],\n",
       "         [0.72, 0.  , 0.14, 0.  ]]),\n",
       "  '83': array([[0.  , 0.02, 0.72, 0.03],\n",
       "         [0.01, 0.  , 0.  , 0.02],\n",
       "         [0.64, 0.  , 0.  , 0.01],\n",
       "         [0.01, 0.07, 0.02, 0.  ]]),\n",
       "  'F4': array([[0.  , 0.24, 0.61, 0.29],\n",
       "         [0.21, 0.  , 0.  , 0.01],\n",
       "         [0.64, 0.  , 0.  , 0.  ],\n",
       "         [0.22, 0.02, 0.  , 0.  ]])}}"
      ]
     },
     "execution_count": 6,
     "metadata": {},
     "output_type": "execute_result"
    }
   ],
   "source": [
    "mis_pvals_all"
   ]
  },
  {
   "attachments": {},
   "cell_type": "markdown",
   "metadata": {},
   "source": [
    "Summarize significant pairs of recording days."
   ]
  },
  {
   "cell_type": "code",
   "execution_count": 29,
   "metadata": {},
   "outputs": [],
   "source": [
    "threshold = 0.05\n",
    "from collections import defaultdict\n",
    "sig_counts = {'Control': defaultdict(int), 'Idazoxan': defaultdict(int), 'Clonidine': defaultdict(int)}\n",
    "sig_counts_indices = {'Control': defaultdict(int), 'Idazoxan': defaultdict(int), 'Clonidine': defaultdict(int)}\n",
    "for cond in mis_pvals_all.keys():\n",
    "    animals = list(mis_pvals_all[cond].keys())\n",
    "    for animal in animals:\n",
    "        m = mis_pvals_all[cond][animal]\n",
    "        indices = zip(*np.where(m <= threshold))\n",
    "        for idx in indices:\n",
    "            if idx[0] != idx[1]:\n",
    "                #d1, d2 = min(idx), max(idx)\n",
    "                d1, d2 = idx[0], idx[1]\n",
    "                days = (sessions[d1], sessions[d2])\n",
    "                sig_counts[cond][days] += 1\n",
    "                sig_counts_indices[cond][(d1, d2)] += 1\n",
    "\n",
    "heatmaps = {}\n",
    "for cond in mis_pvals_all.keys():\n",
    "    heatmaps[cond] = np.zeros((4,4))\n",
    "    for key, val in sig_counts_indices[cond].items():\n",
    "        if key[0] < key[1]:\n",
    "            heatmaps[cond][key[0], key[1]] = val\n"
   ]
  },
  {
   "cell_type": "code",
   "execution_count": 36,
   "metadata": {},
   "outputs": [
    {
     "data": {
      "text/plain": [
       "Text(0.5, 0.98, 'Number of animals with significant MI in cell types between days')"
      ]
     },
     "execution_count": 36,
     "metadata": {},
     "output_type": "execute_result"
    },
    {
     "data": {
      "image/png": "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",
      "text/plain": [
       "<Figure size 1000x400 with 4 Axes>"
      ]
     },
     "metadata": {},
     "output_type": "display_data"
    }
   ],
   "source": [
    "fig, axes = plt.subplots(1,3, figsize = (10,4), sharey = True)\n",
    "for idx, cond in enumerate(sig_counts_indices.keys()):\n",
    "    im = axes[idx].imshow(heatmaps[cond][1:,1:], vmin = 0, vmax = 3)\n",
    "    axes[idx].set_title(cond)        \n",
    "    axes[idx].set_xticks(range(3))\n",
    "    axes[idx].set_yticks(range(3))\n",
    "    axes[idx].set_xticklabels(sessions[1:])\n",
    "    axes[idx].set_yticklabels(sessions[1:])\n",
    "\n",
    "fig.subplots_adjust(right=0.8)\n",
    "cbar_ax = fig.add_axes([0.85, 0.15, 0.05, 0.7])\n",
    "fig.colorbar(im, cax=cbar_ax)\n",
    "#Set colorbar ticks as integers, not floats. Define MaxNLocator\n",
    "import matplotlib\n",
    "MaxNLocator = matplotlib.ticker.MaxNLocator\n",
    "cbar_ax.yaxis.set_major_locator(MaxNLocator(integer=True))\n",
    "axes[1].set_xlabel('Day')\n",
    "axes[0].set_ylabel('Day')\n",
    "\n",
    "plt.suptitle('Number of animals with significant MI in cell types between days')"
   ]
  },
  {
   "cell_type": "code",
   "execution_count": 9,
   "metadata": {},
   "outputs": [],
   "source": [
    "def mutual_info_w_matrix(x, y, n_cat = 2, labels = None):\n",
    "    mi = 0\n",
    "    N = len(x)\n",
    "    if N == 0: return 0\n",
    "    assert len(x) == len(y)\n",
    "    \n",
    "    if labels is None:\n",
    "        iterator1 = range(n_cat)\n",
    "        iterator2 = range(n_cat)\n",
    "        x = x.astype(int)\n",
    "        y = y.astype(int)\n",
    "    else:\n",
    "        n_cat = np.unique(labels).shape[0]\n",
    "        iterator1 = labels \n",
    "        iterator2 = labels\n",
    "\n",
    "    pij_matrix = np.zeros((n_cat, n_cat))\n",
    "\n",
    "    for idx_i, i in enumerate(iterator1):\n",
    "        for idx_j, j in enumerate(iterator2):\n",
    "            pij = sum((x == i) & (y == j))/N\n",
    "            pi = sum(x == i)/N\n",
    "            pj = sum(y == j)/N\n",
    "            if (pij == 0) or (pi == 0) or (pj == 0): continue\n",
    "            mi += pij*np.log2(pij/pi/pj)\n",
    "            pij_matrix[idx_i,idx_j] = pij\n",
    "    return mi, pij_matrix"
   ]
  },
  {
   "cell_type": "code",
   "execution_count": 10,
   "metadata": {},
   "outputs": [
    {
     "name": "stdout",
     "output_type": "stream",
     "text": [
      "cells tracked throughout 3 recordings 155 out of 489\n",
      "cells tracked throughout 3 recordings 94 out of 286\n",
      "cells tracked throughout 3 recordings 276 out of 744\n",
      "cells tracked throughout 3 recordings 139 out of 733\n",
      "Idazoxan\n",
      "cells tracked throughout 3 recordings 184 out of 402\n",
      "cells tracked throughout 3 recordings 193 out of 652\n",
      "cells tracked throughout 3 recordings 105 out of 277\n",
      "cells tracked throughout 3 recordings 140 out of 423\n",
      "Clonidine\n",
      "cells tracked throughout 3 recordings 439 out of 994\n"
     ]
    }
   ],
   "source": [
    "n_reps = 100\n",
    "alpha = 0.05\n",
    "mis_all = {}\n",
    "mis_pvals_all = {}\n",
    "mis_sig_all = {}\n",
    "mi_matrices = {}\n",
    "\n",
    "#Set the random seed in pandas to 42\n",
    "np.random.seed(42)\n",
    "\n",
    "for treatment in conditions:\n",
    "    mis_all[treatment] = {}\n",
    "    mis_pvals_all[treatment] = {}\n",
    "    mis_sig_all[treatment] = {}\n",
    "    animals = df.loc[df.treatment == treatment, \"Animal\"].unique()\n",
    "    for animal in animals:\n",
    "        df_con = df[(df.treatment == treatment) & (df.Animal == animal)]\n",
    "        cell_sums, cell_stats, cell_sums_list, animals = compute_stats(df, treatment)\n",
    "        cell_fully_tracked = [k for k,v in cell_stats[animal].items() if np.sum(v[1:]) == 3]\n",
    "        print(\"cells tracked throughout 3 recordings\", len(cell_fully_tracked), 'out of', len(cell_stats[animal]))\n",
    "        celltypes = sorted(df_con.CellType.unique())\n",
    "\n",
    "        mis = np.zeros((4,4))\n",
    "        mis_pval = np.zeros((4,4))\n",
    "        mis_sig = np.zeros((4,4))\n",
    "        for i, s_1 in enumerate(sessions):\n",
    "            for j, s_2 in enumerate(sessions):\n",
    "                if s_1 == s_2: continue \n",
    "                ds1 = df_con.loc[df_con.Session == s_1].set_index('MatchID')\n",
    "                ds1 = ds1[ds1.index.isin(cell_fully_tracked)]\n",
    "                ds2 = df_con.loc[df_con.Session == s_2].set_index('MatchID')\n",
    "                ds2 = ds2[ds2.index.isin(cell_fully_tracked)]\n",
    "                ds = pd.merge(ds1, ds2, on = 'MatchID')\n",
    "                mi, pij = mutual_info_w_matrix(ds[f'CellType_x'], ds[f'CellType_y'], labels = celltypes)\n",
    "                #Compute MI null distribution\n",
    "                null_mis = [mutual_info(ds[f'CellType_x'].values, ds[f'CellType_y'].sample(frac = 1).values, labels = celltypes) for _ in range(n_reps)]\n",
    "                mis[i,j] = mi\n",
    "                mi_matrices[(treatment, animal, s_1, s_2)] = pij\n",
    "                mis_pval[i,j] = sum(mi < np.array(null_mis))/n_reps\n",
    "\n",
    "        mis_sig_all[treatment][animal] = mis_pval < alpha\n",
    "        mis_all[treatment][animal] = mis \n",
    "\n",
    "        mis_pvals_all[treatment][animal] = mis_pval        "
   ]
  },
  {
   "cell_type": "code",
   "execution_count": 31,
   "metadata": {},
   "outputs": [
    {
     "data": {
      "image/png": "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